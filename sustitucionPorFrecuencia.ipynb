{
  "nbformat": 4,
  "nbformat_minor": 0,
  "metadata": {
    "colab": {
      "provenance": [],
      "authorship_tag": "ABX9TyNz8GU+TkpJupHrIUuuR5wm",
      "include_colab_link": true
    },
    "kernelspec": {
      "name": "python3",
      "display_name": "Python 3"
    },
    "language_info": {
      "name": "python"
    }
  },
  "cells": [
    {
      "cell_type": "markdown",
      "metadata": {
        "id": "view-in-github",
        "colab_type": "text"
      },
      "source": [
        "<a href=\"https://colab.research.google.com/github/LuisBellocs/Criptgraf-aCollab/blob/main/sustitucionPorFrecuencia.ipynb\" target=\"_parent\"><img src=\"https://colab.research.google.com/assets/colab-badge.svg\" alt=\"Open In Colab\"/></a>"
      ]
    },
    {
      "cell_type": "code",
      "source": [
        "frecuencia_letras = {\n",
        "    'A': 12.53, 'B': 1.42, 'C': 4.68, 'D': 5.86, 'E': 13.68, 'F': 0.69, 'G': 1.01,\n",
        "    'H': 0.70, 'I': 6.25, 'J': 0.44, 'K': 0.02, 'L': 4.97, 'M': 3.15, 'N': 6.71,\n",
        "    'O': 8.68, 'P': 2.51, 'Q': 0.88, 'R': 6.87, 'S': 7.98, 'T': 4.63, 'U': 3.93,\n",
        "    'V': 0.90, 'W': 0.01, 'X': 0.22, 'Y': 0.90, 'Z': 0.52\n",
        "}\n",
        "\n",
        "letras_ordenadas = [letra for letra, _ in sorted(frecuencia_letras.items(), key=lambda x: x[1], reverse=True)]\n",
        "\n",
        "texto_cifrado = \"\"\"CKFIOPGJIK LMPGLKOCKO OGRIMLKLMO FKOPKNQMOP JGOLIKOMOC KFIOPGJIKL\n",
        "MCKOCQRFKO LMRCKOMOFG HAJMOCIAJM OWMORCKTGO SKPJIRIGOW SCMAMWGOOM NGJMOWOIMJ TGOHKMOPJG\n",
        "OWGXIRIKCM OMNQNKSKCK AJKGSJMOGJ MOWGSJIHIL GOOMMNXJMN PKJGNOIMHS JMHKNPQTIM JGNQNKCQRF\n",
        "KRGNOPKNPM TMCKLKQNKO TMRMOWGPJK OXJKNRKWKA IMJPKCQRFK BQMPMJHING OIMHSJMRGN CKPJKNOXGJ\n",
        "HKRIGNJMTG CQRIGNKJIK LMPGLKCKOG RIMLKLGMCF QNLIHIMNPG LMCKORCKOM OMNSQYNKMN CKOKNPMJIG\n",
        "JMOMSGRKOF IOPGJIRKOM NRGNPJKHGO RKOISGJPGL KOSKJPMOQN KRGHSCMPKL IXMJMNRIKR IGNLMCKOGR\n",
        "IMLKLMNLIT MJOGOMOPKH MNPGOQNKHQ CPISCMMORK CKYJKLQKCL MRGNLIRIGN MOOGRIKCMO MNCKKNPIYQ\n",
        "KJGHKFKCCK HGOSKPJIRI GOSCMAMWGO WMORCKTGOM NCKMLKLHML IKOMNGJMOX MQLKCMOTKO KCCGOHKMOP\n",
        "JGOGXIRIKC MOWOIMJTGO WKLMHKOMNR KOIPGLKOMO PKORCKOMOP GLKTIKMNRG NPJKHGOYJK LKRIGNMOMO\n",
        "SMRIKCMO\"\"\""
      ],
      "metadata": {
        "id": "EEU6kEIMH64r"
      },
      "execution_count": 17,
      "outputs": []
    },
    {
      "cell_type": "code",
      "source": [
        "frecuencia_letras_cifrado = {\n",
        "    'A': 0, 'B': 0, 'C': 0, 'D': 0, 'E': 0, 'F': 0, 'G': 0,\n",
        "    'H': 0, 'I': 0, 'J': 0, 'K': 0, 'L': 0, 'M': 0, 'N': 0,\n",
        "    'O': 0, 'P': 0, 'Q': 0, 'R': 0, 'S': 0, 'T': 0, 'U': 0,\n",
        "    'V': 0, 'W': 0, 'X': 0, 'Y': 0, 'Z': 0\n",
        "}\n",
        "\n",
        "for letra in texto_cifrado:\n",
        "    if letra.isalpha():\n",
        "        frecuencia_letras_cifrado[letra] += 1\n",
        "\n",
        "letras_ordenadas_cifrado = [letra for letra, _ in sorted(frecuencia_letras_cifrado.items(), key=lambda x: x[1], reverse=True)]\n",
        "\n",
        "correspondencia = {}\n",
        "\n",
        "j = 0\n",
        "for i in letras_ordenadas:\n",
        "  if j >= len(letras_ordenadas_cifrado):\n",
        "    break\n",
        "  correspondencia[i] = letras_ordenadas_cifrado[j]\n",
        "  j += 1\n",
        "\n",
        "texto_descifrado = \"\"\n",
        "for letra in texto_cifrado:\n",
        "  if letra in correspondencia:\n",
        "    texto_descifrado += correspondencia[letra]\n",
        "  else:\n",
        "    texto_descifrado += letra\n",
        "\n",
        "print(correspondencia)\n",
        "print(texto_descifrado)"
      ],
      "metadata": {
        "colab": {
          "base_uri": "https://localhost:8080/"
        },
        "id": "ViKonJwXL59B",
        "outputId": "20ebaa11-a1eb-469a-e758-384e45ee813b"
      },
      "execution_count": 27,
      "outputs": [
        {
          "output_type": "stream",
          "name": "stdout",
          "text": [
            "{'E': 'K', 'A': 'M', 'O': 'O', 'S': 'G', 'R': 'I', 'N': 'N', 'I': 'J', 'D': 'C', 'L': 'R', 'C': 'P', 'T': 'L', 'U': 'H', 'M': 'Q', 'P': 'S', 'B': 'W', 'G': 'T', 'V': 'F', 'Y': 'X', 'Q': 'A', 'H': 'Y', 'F': 'B', 'Z': 'D', 'J': 'E', 'X': 'U', 'K': 'V', 'W': 'Z'}\n",
            "PVBJOSTEJV RQSTRVOPVO OTIJQRVRQO BVOSVNAQOS ETORJVOQOP VBJOSTEJVR \n",
            "QPVOPAIBVO RQIPVOQOBT YMEQOPJMEQ OZQOIPVLTO GVSEJIJTOZ GPQMQZTOOQ NTEQOZOJQE LTOYVQOSET \n",
            "OZTUJIJVPQ OQNANVGVPV MEVTGEQOTE QOZTGEJYJR TOOQQNUEQN SVETNOJQYG EQYVNSALJQ ETNANVPAIB \n",
            "VITNOSVNSQ LQPVRVANVO LQIQOZTSEV OUEVNIVZVM JQESVPAIBV WAQSQEYJNT OJQYGEQITN PVSEVNOUTE \n",
            "YVIJTNEQLT PAIJTNVEJV RQSTRVPVOT IJQRVRTQPB ANRJYJQNST RQPVOIPVOQ OQNGAXNVQN PVOVNSQEJT \n",
            "EQOQGTIVOB JOSTEJIVOQ NITNSEVYTO IVOJGTESTR VOGVESQOAN VITYGPQSVR JUQEQNIJVI JTNRQPVOTI \n",
            "JQRVRQNRJL QEOTOQOSVY QNSTOANVYA PSJGPQQOIV PVXEVRAVPR QITNRJIJTN QOOTIJVPQO QNPVVNSJXA \n",
            "VETYVBVPPV YTOGVSEJIJ TOGPQMQZTO ZQOIPVLTOQ NPVQRVRYQR JVOQNTEQOU QARVPQOLVO VPPTOYVQOS \n",
            "ETOTUJIJVP QOZOJQELTO ZVRQYVOQNI VOJSTRVOQO SVOIPVOQOS TRVLJVQNIT NSEVYTOXEV RVIJTNQOQO \n",
            "GQIJVPQO\n"
          ]
        }
      ]
    }
  ]
}