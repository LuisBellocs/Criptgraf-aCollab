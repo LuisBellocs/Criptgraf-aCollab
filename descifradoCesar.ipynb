{
  "nbformat": 4,
  "nbformat_minor": 0,
  "metadata": {
    "colab": {
      "provenance": [],
      "authorship_tag": "ABX9TyP/3GdfBWoil3PJd3uVsUlC",
      "include_colab_link": true
    },
    "kernelspec": {
      "name": "python3",
      "display_name": "Python 3"
    },
    "language_info": {
      "name": "python"
    }
  },
  "cells": [
    {
      "cell_type": "markdown",
      "metadata": {
        "id": "view-in-github",
        "colab_type": "text"
      },
      "source": [
        "<a href=\"https://colab.research.google.com/github/LuisBellocs/Criptgraf-aCollab/blob/main/descifradoCesar.ipynb\" target=\"_parent\"><img src=\"https://colab.research.google.com/assets/colab-badge.svg\" alt=\"Open In Colab\"/></a>"
      ]
    },
    {
      "cell_type": "code",
      "execution_count": null,
      "metadata": {
        "id": "hkuOO7OOVrOn"
      },
      "outputs": [],
      "source": [
        "texto_cifrado = \"\"\"CKFIOPGJIK LMPGLKOCKO OGRIMLKLMO FKOPKNQMOP JGOLIKOMOC KFIOPGJIKL\n",
        "MCKOCQRFKO LMRCKOMOFG HAJMOCIAJM OWMORCKTGO SKPJIRIGOW SCMAMWGOOM NGJMOWOIMJ TGOHKMOPJG\n",
        "OWGXIRIKCM OMNQNKSKCK AJKGSJMOGJ MOWGSJIHIL GOOMMNXJMN PKJGNOIMHS JMHKNPQTIM JGNQNKCQRF\n",
        "KRGNOPKNPM TMCKLKQNKO TMRMOWGPJK OXJKNRKWKA IMJPKCQRFK BQMPMJHING OIMHSJMRGN CKPJKNOXGJ\n",
        "HKRIGNJMTG CQRIGNKJIK LMPGLKCKOG RIMLKLGMCF QNLIHIMNPG LMCKORCKOM OMNSQYNKMN CKOKNPMJIG\n",
        "JMOMSGRKOF IOPGJIRKOM NRGNPJKHGO RKOISGJPGL KOSKJPMOQN KRGHSCMPKL IXMJMNRIKR IGNLMCKOGR\n",
        "IMLKLMNLIT MJOGOMOPKH MNPGOQNKHQ CPISCMMORK CKYJKLQKCL MRGNLIRIGN MOOGRIKCMO MNCKKNPIYQ\n",
        "KJGHKFKCCK HGOSKPJIRI GOSCMAMWGO WMORCKTGOM NCKMLKLHML IKOMNGJMOX MQLKCMOTKO KCCGOHKMOP\n",
        "JGOGXIRIKC MOWOIMJTGO WKLMHKOMNR KOIPGLKOMO PKORCKOMOP GLKTIKMNRG NPJKHGOYJK LKRIGNMOMO\n",
        "SMRIKCMO\"\"\"\n",
        "\n",
        "indices_alfabeto = {index: letter for index, letter in enumerate(\"ABCDEFGHIJKLMNOPQRSTUVWXYZ\")}\n",
        "alfabeto = {letter: index for index, letter in enumerate(\"ABCDEFGHIJKLMNOPQRSTUVWXYZ\")}\n",
        "print(indices_alfabeto)\n",
        "print(alfabeto)\n",
        "\n",
        "for i in range(len(alfabeto)):\n",
        "  texto_plano = \"\"\n",
        "  for j in range(40):\n",
        "    if(texto_cifrado[j] != ' '):\n",
        "      texto_plano += indices_alfabeto[(alfabeto[texto_cifrado[j]] + i) % 26]\n",
        "  print(texto_plano)"
      ]
    }
  ]
}